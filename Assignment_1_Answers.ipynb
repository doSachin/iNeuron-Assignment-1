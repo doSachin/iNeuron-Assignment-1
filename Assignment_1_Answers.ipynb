{
 "cells": [
  {
   "cell_type": "markdown",
   "id": "75dcf315",
   "metadata": {
    "ExecuteTime": {
     "end_time": "2023-05-27T12:38:56.424473Z",
     "start_time": "2023-05-27T12:38:56.395472Z"
    }
   },
   "source": [
    "<h1 align=\"center\" ><span style=\"color: blue; font-size: 48px; \"><b> Assignment No. 1</b></span></h1>\n",
    "\n",
    "<h1 style=\"font-family: Trebuchet MS; font-size: 14px; color: #34495E; text-align: right; \">Submitted By: Sachin Dodake</h1>\n",
    "\n",
    "<hr style=\"height:3px;border-width:1;color:blue;background-color:blue\">"
   ]
  },
  {
   "cell_type": "markdown",
   "id": "ac88d4c9",
   "metadata": {},
   "source": [
    "**Q-1. In the below elements which of them are `values` or `an expression`? eg:- values can be integer or string and expressions will be mathematical operators.**\n",
    "\n",
    "       i) *           \n",
    "       ii) 'hello'  \n",
    "       iii) -87.8  \n",
    "       iv) - \n",
    "       v) / \n",
    "       vi) +  \n",
    "       vii) 6"
   ]
  },
  {
   "cell_type": "markdown",
   "id": "e999096c",
   "metadata": {
    "ExecuteTime": {
     "end_time": "2023-05-22T11:01:57.690884Z",
     "start_time": "2023-05-22T11:01:57.675007Z"
    }
   },
   "source": [
    "**Ans-1**\n",
    "> The explaination is as below:       \n",
    "\n",
    ">                       i)  *              => Expression        \n",
    ">                       ii)  'hello'    => Value\n",
    ">                       iii)  -87.8     => Value\n",
    ">                       iv)  -              => Expression\n",
    ">                       v)  /             => Expression\n",
    ">                       vi)  +            => Expression\n",
    ">                       vii)  6            => Value\n",
    "\n"
   ]
  },
  {
   "cell_type": "markdown",
   "id": "682e2dc1",
   "metadata": {
    "ExecuteTime": {
     "end_time": "2023-05-22T11:01:41.640070Z",
     "start_time": "2023-05-22T11:01:41.626649Z"
    }
   },
   "source": [
    "**Q-2. What is the difference between `string` and `variable`?**"
   ]
  },
  {
   "cell_type": "markdown",
   "id": "71f445e1",
   "metadata": {
    "ExecuteTime": {
     "end_time": "2023-05-22T11:01:41.640070Z",
     "start_time": "2023-05-22T11:01:41.626649Z"
    }
   },
   "source": [
    "**Ans-2**\n",
    "\n",
    "**`Difference Between String & Variable`**\n",
    "\n",
    "\n",
    "\n",
    "> **`String:`**\n",
    ">- String is a collection of alphabets, words or other characters. \n",
    ">- It is one of the primitive data structures and are the building blocks for data manipulation. \n",
    ">- Python has a built-in string class named str. \n",
    ">- Python strings are \"immutable\" which means they cannot be changed after they are created. \n",
    ">- For string manipulation, we create new strings as we go to represent computed values because of their immutable property.\n",
    ">- **Example:**\n",
    "            single_quote_string = 'Welcome to the \"iNeuron\".'\n",
    "            double_quote_string = \"I am  'Sachin', and I love to write codes.\"\n",
    "            triple_quote_string = \"\"\"We are going to learn \"ML\" and 'DL'.\"\"\"\n",
    "    \n",
    "> **`Variable:`**\n",
    ">- A variable is a label or a name given to a certain location in memory. This location holds the value you want your program to remember, for use later on.\n",
    ">- To create a new variable in Python, you simply use the assignment operator (=, a single equals sign) and assign the desired value to it.\n",
    ">- Assigning an initial value to a variable is called initializing the variable.\n",
    ">- **Example: **\n",
    "            variable_int = 7777\n",
    "            variable_string = \"8888\"\n",
    "            variable_float = 99.01\n",
    "            variable_bool= True\n",
    "            "
   ]
  },
  {
   "cell_type": "markdown",
   "id": "4850b27c",
   "metadata": {},
   "source": [
    "**Q-3. Describe three different data types.**"
   ]
  },
  {
   "cell_type": "markdown",
   "id": "1c72344f",
   "metadata": {},
   "source": [
    "**Ans-3**\n",
    "\n",
    ">- Data types are the classification or categorization of data items. It represents the kind of value that tells what operations can be performed on a particular data. \n",
    ">- In Python,  everything is an object, therefore data types are actually classes and variables are instance (object) of these classes.\n",
    ">- Python is a dynamically typed language; hence we do not need to define the type of the variable while declaring it. The interpreter implicitly binds the value with its type.\n",
    ">- The vaious data types in Python are :\n",
    "        1. int,                2. float,                3. complex,                4. bool,                \n",
    "        5. str,                6. list,                 7. tuple,                  8. set,                \n",
    "        9. frozenset,         10. dict,                11. byte,                  12. bytearray,    \n",
    "       13. range,             14. None\n",
    "        \n",
    "        \n",
    "        \n",
    "        \n",
    "> **`1. Interger Data Type:`**\n",
    ">- In Python, integers are zero, positive or negative whole numbers without a fractional part and having unlimited precision, \n",
    ">- Integer data type is represented by int class. \n",
    ">- It contains positive or negative whole numbers (without fraction or decimal). \n",
    ">- In Python there is no limit to how long an integer value can be.\n",
    ">- Integers can be binary, octal, and hexadecimal values.\n",
    ">- **`Examples:`** \n",
    "          i. first_1 = 10 (Normal positive integer value)\n",
    "         ii. second_2 = 35656222554887711  (Long positive integer value)\n",
    "        iii. third_3 = -3255522   (short Negative integer value)\n",
    "        \n",
    "        \n",
    " \n",
    "> **`2. FLoat Data Type:`**\n",
    ">- In Python, floating point numbers (float) are positive and negative real numbers with a fractional part denoted by the decimal symbol . or the scientific notation E or e WITH BASE 10.\n",
    ">- Floats has the maximum size depends on system. The float beyond its maximum size referred as \"inf\", \"Inf\", \"INFINITY\".. \n",
    ">- Float 2e400 will be considered as infinity for most systems.\n",
    ">- Scientific notation is used as a short representation to express floats having many digits. For example: 345.56789 is represented as 3.4556789e2 or 3.4556789E2\n",
    ">- **Examples:**\n",
    "            i. float_1 = 2.45 (valid)\n",
    "           ii. float_2=123_42.222_013 (valid)\n",
    "          iii. float_3=2e400   (valid, but its actual value is \"inf\", \"Inf\", \"INFINITY\", or \"infinity\")\n",
    "           iv. float_4=1e3 (valid, but its actual value is 1*10pow3 )\n",
    "            v. float_ 5= 2.5e2   (valid, but its actual value is 2.5*10pow3)\n",
    "            \n",
    "> **`3. String Data Type:`**\n",
    ">- The most commonly used data type is 'str' data type.\n",
    ">- The string can be defined as the sequence of characters represented in the quotation marks. \n",
    ">- In Python, we can use single, double, or triple quotes to define a string.\n",
    ">- In Python, strings are arrays of bytes representing Unicode characters.\n",
    ">- In python, there is no character (i.e. char) data type, a character is a string of length one. It is represented by str class.\n",
    ">- The operator (+) is used to  concatenation two strings and the asterisk (*) operator is the used for repetition of string.\n",
    ">- The string is a sequence of Unicode characters\n",
    ">- **Examples:**\n",
    "                i.  string_1 = 'sachin'\n",
    "               ii.  string_2 = \"virat\"\n",
    "              iii.  string_3 = '''rohit'''\n",
    "               "
   ]
  },
  {
   "cell_type": "markdown",
   "id": "648b85d5",
   "metadata": {},
   "source": [
    "**Q-4. What is an expression made up of? What do all expressions do?**"
   ]
  },
  {
   "cell_type": "markdown",
   "id": "ddde66ca",
   "metadata": {},
   "source": [
    "**Ans-4**\n",
    ">- An expression is a combination of operators and operands that is interpreted to produce some other value.\n",
    ">- An expression is a made up of variables, operators, and method invocations, which are constructed according to the syntax, that evaluates to a single value.\n",
    ">- The expression in Python produces some value or result after being interpreted by the Python interpreter.\n",
    ">- **Examples:**\n",
    "                x = 25              # a statement\n",
    "                x = x + 10              # an expression\n",
    "             "
   ]
  },
  {
   "cell_type": "code",
   "execution_count": 1,
   "id": "c15092be",
   "metadata": {
    "ExecuteTime": {
     "end_time": "2023-05-27T13:08:43.010900Z",
     "start_time": "2023-05-27T13:08:42.998874Z"
    }
   },
   "outputs": [
    {
     "name": "stdout",
     "output_type": "stream",
     "text": [
      "The sum of x and y is:  15\n",
      "The difference between x and y is:  5\n",
      "The product of x and y is:  50\n",
      "The division of x and y is:  2.0\n",
      "x to the power y is:  100000\n"
     ]
    }
   ],
   "source": [
    "# assigning vlaues to variable x and y\n",
    "x = 10   # variable x\n",
    "y = 5   # variable y\n",
    "\n",
    "\n",
    "addition = x + y         # expression for sum\n",
    "subtraction = x - y         # expression for difference\n",
    "product = x * y         # expression for  product\n",
    "division = x / y         # expression for division\n",
    "power = x**y         # expression for power\n",
    "\n",
    "print(\"The sum of x and y is: \", addition)\n",
    "print(\"The difference between x and y is: \", subtraction)\n",
    "print(\"The product of x and y is: \", product)\n",
    "print(\"The division of x and y is: \", division)\n",
    "print(\"x to the power y is: \", power)\n"
   ]
  },
  {
   "cell_type": "markdown",
   "id": "3e3628d6",
   "metadata": {},
   "source": [
    "**`What do all expressions do?`**\n",
    ">- The expression in Python produces some value or result after being interpreted by the Python interpreter. An expression in Python is a combination of operators and operands.\n",
    ">- **Examples:**\n",
    "                x = 25              # a statement\n",
    "                x = x + 10              # an expression\n",
    ">- In this expression, the first  '10'  is added to the variable 'x'. After the addition is performed, the result is assigned to the variable 'x'."
   ]
  },
  {
   "cell_type": "markdown",
   "id": "5cc3f7d1",
   "metadata": {},
   "source": [
    "**Q-5. This assignment statements, like spam = 10. What is the difference between an expression and a statement?**"
   ]
  },
  {
   "cell_type": "markdown",
   "id": "e0f4d9b2",
   "metadata": {},
   "source": [
    "**Ans-5**\n",
    "\n",
    ">- The general thumb rule to define difference between statement and expression is : If you can print it, or assign it to a variable, it’s an expression. If you can’t, it’s a statement.\n",
    "\n",
    " **`Statement:`**\n",
    ">- A statement is an instruction that a Python interpreter can execute. So, in simple words, we can say anything written in Python is a statement. Python statement ends with the token NEWLINE character. It means each line in a Python script is a statement.\n",
    ">- Statements are used to perform actions or change the state of the program. They are used to execute code and do not return a value. Examples of statements include assignment statements, function calls, and control statements.\n",
    ">- **Examples:** In the following statement, the variable x is assigned the value 5:\n",
    "                    x = 5\n",
    ">- The various types of statements in Python are listed below:       \n",
    "              i) Print statements,              \n",
    "              ii) Assignment statements,      \n",
    "              iii) Compound statements,              \n",
    "              iv) Expression statements:     \n",
    "              v) Multi-Line Statements,              \n",
    "              vi) The 'pass' statement,       \n",
    "              vi) The 'del' statement,              \n",
    "              vi) The 'pass' statement, \n",
    "              vii) The 'return' statement,              \n",
    "              viii) The 'import' statement,         \n",
    "              ix) The continue and break statement.\n",
    "\n",
    " **`Expression:`**\n",
    " \n",
    " >- An expression is a combination of operators and operands that is interpreted to produce some other value. An expression is a made up of variables, operators, and method invocations, which are constructed according to the syntax, that evaluates to a single value.\n",
    ">- The expression in Python produces some value or result after being interpreted by the Python interpreter.\n",
    ">- Expressions are used to evaluate to a single value. They can be used in a variety of ways, such as in assignment statements, function arguments, and conditional statements. Expressions return a value and are often used to compute a value and assign it to a variable.\n",
    ">- **Examples:** In the following expression, the values 2 and 3 are added together and the result is stored in the variable y:\n",
    "                    x = 4               # a statement\n",
    "                    y = 2 + 3               # an expression\n",
    "             \n",
    " \n",
    " \n",
    " "
   ]
  },
  {
   "cell_type": "markdown",
   "id": "fac29cfe",
   "metadata": {},
   "source": [
    "**Q-6. After running the following code, what does the variable `bacon` contain?**\n",
    "                \n",
    "                                bacon = 22\n",
    "                                bacon + 1"
   ]
  },
  {
   "cell_type": "markdown",
   "id": "620af583",
   "metadata": {},
   "source": [
    "**Ans-6**\n",
    "\n",
    ">- In first line of given code , we are assigning the integer value 22 to the variable 'bacon', while in second line we are incrementing the  value of  'bacon'.\n",
    ">- After execution of this line, the variable 'bacon' still contain the value '22' as show in code below:"
   ]
  },
  {
   "cell_type": "code",
   "execution_count": 10,
   "id": "06d1832a",
   "metadata": {
    "ExecuteTime": {
     "end_time": "2023-05-22T12:03:03.567017Z",
     "start_time": "2023-05-22T12:03:03.553741Z"
    }
   },
   "outputs": [
    {
     "name": "stdout",
     "output_type": "stream",
     "text": [
      "The value of variable 'bacon' after execution is : 22\n"
     ]
    }
   ],
   "source": [
    "\n",
    "# assigning int 22 to ''bacon'v ariable\n",
    "bacon = 22\n",
    "# increamenting the value stored in bacon variable\n",
    "bacon + 1\n",
    "\n",
    "# printing the value stored in 'bacon'\n",
    "print(f\"The value of variable 'bacon' after execution is : {bacon}\")"
   ]
  },
  {
   "cell_type": "markdown",
   "id": "ffb2205a",
   "metadata": {},
   "source": [
    "**Q-7. What should the values of the following two terms be?**\n",
    "\n",
    "            'spam' + 'spamspam'\n",
    "            'spam' * 3"
   ]
  },
  {
   "cell_type": "markdown",
   "id": "3bd1d8aa",
   "metadata": {},
   "source": [
    "**Ans-7**\n",
    "\n",
    ">- The given two terms are the examples of concatination.\n",
    ">- In first term, we are trying to concatinate the two strings **`spam`** & **`spamspam`** using addition operator  $+$, whose result will be `spamspamspam` as show in code below.\n",
    ">- In second term, we are trying to concatinate the one strings **`spam`** & one int value **`3`** using multiplication operator  $*$, whose result will be `spamspamspam` as show in code below."
   ]
  },
  {
   "cell_type": "code",
   "execution_count": 14,
   "id": "3ca27c6b",
   "metadata": {
    "ExecuteTime": {
     "end_time": "2023-05-22T12:10:52.075819Z",
     "start_time": "2023-05-22T12:10:52.059623Z"
    }
   },
   "outputs": [
    {
     "data": {
      "text/plain": [
       "'spamspamspam'"
      ]
     },
     "execution_count": 14,
     "metadata": {},
     "output_type": "execute_result"
    }
   ],
   "source": [
    "# First term is a conctiation of two string values\n",
    "'spam' + 'spamspam'"
   ]
  },
  {
   "cell_type": "code",
   "execution_count": 16,
   "id": "f39b4b0b",
   "metadata": {
    "ExecuteTime": {
     "end_time": "2023-05-22T12:11:37.610983Z",
     "start_time": "2023-05-22T12:11:37.590777Z"
    }
   },
   "outputs": [
    {
     "data": {
      "text/plain": [
       "'spamspamspam'"
      ]
     },
     "execution_count": 16,
     "metadata": {},
     "output_type": "execute_result"
    }
   ],
   "source": [
    "# Second term is a conctiation of  string values and int value\n",
    "'spam' * 3"
   ]
  },
  {
   "cell_type": "markdown",
   "id": "d2fcab5d",
   "metadata": {},
   "source": [
    "**Q-8. Why is `eggs` a valid variable name while `100` is invalid?**"
   ]
  },
  {
   "cell_type": "markdown",
   "id": "0ad971c3",
   "metadata": {
    "ExecuteTime": {
     "end_time": "2023-05-22T14:17:04.357486Z",
     "start_time": "2023-05-22T14:17:04.334985Z"
    }
   },
   "source": [
    " **`Variables:`**\n",
    " \n",
    ">- Variable is a name that is used to refer to memory location i.e. variables are nothing but reserved memory locations to store values. This means that when you create a variable you reserve some space in memory.\n",
    ">- Python variable is also known as an identifier and used to hold value.\n",
    "\n",
    "**`Properties of Variable`**\n",
    ">- The first character of the variable must be an alphabet or underscore ( _ ).\n",
    ">- All the characters except the first character may be an alphabet of lower-case(a-z), upper-case (A-Z), underscore, or digit (0-9).\n",
    ">- Identifier name must not contain any white-space, or special character (!, @, #, %, ^, &, *). \n",
    ">-  Identifier name must not be similar to any keyword defined in the language.\n",
    ">- Identifier names are case sensitive; for example, my name, and MyName is not the same.\n",
    "\n",
    "**`Difference between 'eggs' & '100' variables`**\n",
    ">- The `eggs` variable name is $VALID$ variable name, because variable names can begin with a alphabets i.e. it satisfied all the properties mentioned above.\n",
    ">- The `100` variable name is $INVALID$ variable name, because variable names cannot begin with a number i.e. it does not satisfied all the properties mentioned above.\n"
   ]
  },
  {
   "cell_type": "markdown",
   "id": "38d50abe",
   "metadata": {},
   "source": [
    "**Q-9. What three functions can be used to get the integer, floating-point number, or string version of a value?**"
   ]
  },
  {
   "cell_type": "markdown",
   "id": "b13acd82",
   "metadata": {},
   "source": [
    ">- In Python,  `int( )` , `float( )` , and `str( )` functions can be used get integer, floating-point number, and string versions of the value passed to them.\n",
    "\n",
    "> **`i. int( )`**\n",
    ">- Python int() function returns an integer from a given object or converts a number in a given base to a decimal.\n",
    ">- **Example:**       \n",
    "        # convert string value to integer\n",
    "            age = \"21\"  #  Here, 21 is in string format (i.e. \"21\").\n",
    "            print(\"age =\", int(age))  #  This line will print the output in integaer format (i.e. 10).\n",
    "\n",
    "\n",
    "> **`ii. float( )`**\n",
    ">- Python float() function is used to return a floating-point number from a number or a string representation of a numeric value.\n",
    ">- **Example:**       \n",
    "        # convert integer value to float\n",
    "            num = float(10)  # Here, 10 is in integer format (i.e. 10).\n",
    "            print(num)  #  This line will print the output in floating point format (i.e. 10.0).\n",
    "\n",
    "\n",
    "\n",
    "> **`iii. str( )`**\n",
    ">- Python int() function returns an integer from a given object or converts a number in a given base to a decimal.\n",
    ">- **Example:**       \n",
    "        # convert integer value to string\n",
    "            num = 100  # Here, 10 is in integer format (i.e. 10).\n",
    "            s = str(num)  #  This line will convert int value in string value\n",
    "            print(s, type(s))  #  This line will print the output in string format (i.e. \"100\").\n",
    "\n"
   ]
  },
  {
   "cell_type": "markdown",
   "id": "34486e18",
   "metadata": {},
   "source": [
    "**Q-10. Why does this expression cause an error? How can you fix it?**\n",
    "\n",
    "            'I have eaten ' + 99 + ' burritos.'"
   ]
  },
  {
   "cell_type": "markdown",
   "id": "0f2870b9",
   "metadata": {},
   "source": [
    ">- Let's try to run the given code"
   ]
  },
  {
   "cell_type": "code",
   "execution_count": 13,
   "id": "faf82983",
   "metadata": {
    "ExecuteTime": {
     "end_time": "2023-05-27T12:34:02.053162Z",
     "start_time": "2023-05-27T12:34:01.913420Z"
    }
   },
   "outputs": [
    {
     "ename": "TypeError",
     "evalue": "can only concatenate str (not \"int\") to str",
     "output_type": "error",
     "traceback": [
      "\u001b[1;31m---------------------------------------------------------------------------\u001b[0m",
      "\u001b[1;31mTypeError\u001b[0m                                 Traceback (most recent call last)",
      "Input \u001b[1;32mIn [13]\u001b[0m, in \u001b[0;36m<cell line: 1>\u001b[1;34m()\u001b[0m\n\u001b[1;32m----> 1\u001b[0m \u001b[38;5;124;43m'\u001b[39;49m\u001b[38;5;124;43mI have eaten \u001b[39;49m\u001b[38;5;124;43m'\u001b[39;49m\u001b[43m \u001b[49m\u001b[38;5;241;43m+\u001b[39;49m\u001b[43m \u001b[49m\u001b[38;5;241;43m99\u001b[39;49m \u001b[38;5;241m+\u001b[39m \u001b[38;5;124m'\u001b[39m\u001b[38;5;124m burritos.\u001b[39m\u001b[38;5;124m'\u001b[39m\n",
      "\u001b[1;31mTypeError\u001b[0m: can only concatenate str (not \"int\") to str"
     ]
    }
   ],
   "source": [
    "\n",
    "'I have eaten ' + 99 + ' burritos.'      # this will show error."
   ]
  },
  {
   "cell_type": "markdown",
   "id": "1977ee7c",
   "metadata": {},
   "source": [
    ">- Here, we are trying to concatinate the `string` value with `integers` value using plus operator (i.e. $+$). But, we can not concatinate  `string` value with `integers` value using plus operator (i.e. $+$).\n",
    ">- In order to concatinate he `string` value with `integers`, first we need to convert the `integer` value into `string` value using `str( )` function, and then we can concatinate them.\n",
    ">- The detail explaination is in the code below:"
   ]
  },
  {
   "cell_type": "code",
   "execution_count": 14,
   "id": "5f1a9c9e",
   "metadata": {
    "ExecuteTime": {
     "end_time": "2023-05-27T12:34:08.688843Z",
     "start_time": "2023-05-27T12:34:08.665542Z"
    }
   },
   "outputs": [
    {
     "name": "stdout",
     "output_type": "stream",
     "text": [
      "The final string will be : I have eaten  99  burritos.\n"
     ]
    }
   ],
   "source": [
    "# given statement  is 'I have eaten ' + 99 + ' burritos.'\n",
    " \n",
    "term_1 = 'I have eaten'     # in string format.\n",
    "term_2 = 99                   # in int format.\n",
    "term_3 = 'burritos.'          # in string format.\n",
    "\n",
    "# converting second term into string\n",
    "term_22 = str(term_2)\n",
    "\n",
    "# concatination of  all terms\n",
    "output =  f\"The final string will be : {term_1 + '  ' + term_22 + '  '  + term_3}\"  # +'  '  is used to add extra space\n",
    " \n",
    "# printing output string\n",
    "print(output)"
   ]
  }
 ],
 "metadata": {
  "hide_input": false,
  "kernelspec": {
   "display_name": "Python 3 (ipykernel)",
   "language": "python",
   "name": "python3"
  },
  "language_info": {
   "codemirror_mode": {
    "name": "ipython",
    "version": 3
   },
   "file_extension": ".py",
   "mimetype": "text/x-python",
   "name": "python",
   "nbconvert_exporter": "python",
   "pygments_lexer": "ipython3",
   "version": "3.10.9"
  },
  "varInspector": {
   "cols": {
    "lenName": 16,
    "lenType": 16,
    "lenVar": 40
   },
   "kernels_config": {
    "python": {
     "delete_cmd_postfix": "",
     "delete_cmd_prefix": "del ",
     "library": "var_list.py",
     "varRefreshCmd": "print(var_dic_list())"
    },
    "r": {
     "delete_cmd_postfix": ") ",
     "delete_cmd_prefix": "rm(",
     "library": "var_list.r",
     "varRefreshCmd": "cat(var_dic_list()) "
    }
   },
   "types_to_exclude": [
    "module",
    "function",
    "builtin_function_or_method",
    "instance",
    "_Feature"
   ],
   "window_display": false
  }
 },
 "nbformat": 4,
 "nbformat_minor": 5
}
